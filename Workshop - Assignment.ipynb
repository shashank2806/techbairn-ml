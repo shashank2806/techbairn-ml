{
 "cells": [
  {
   "cell_type": "markdown",
   "metadata": {},
   "source": [
    "## WorkShop Assignment\n",
    "In this Assignment you will try to implement Linear Regression on the cars dataset. \n",
    "The dataset we are going to use has different attibutes a different models of cars. We will also plot differnt graphs on that dataset\n",
    "\n",
    "Follow the insturctions in this notebook to complete your assignment. Make changes in this notebook and submit it before due date."
   ]
  },
  {
   "cell_type": "code",
   "execution_count": null,
   "metadata": {},
   "outputs": [],
   "source": [
    "# TODO: Import Pandas, numpy, matplotlib\n"
   ]
  },
  {
   "cell_type": "markdown",
   "metadata": {},
   "source": [
    "A CSV named `mtcars.csv` file has been provided in the folder, You have to read that csv and do some operations as insturcted."
   ]
  },
  {
   "cell_type": "code",
   "execution_count": null,
   "metadata": {},
   "outputs": [],
   "source": [
    "# TODO: Read the csv file to dataframe\n"
   ]
  },
  {
   "cell_type": "markdown",
   "metadata": {},
   "source": [
    "This is the information about the columns of the csv file\n",
    "* mpg\t- Miles/(US) gallon\n",
    "* cyl\t- Number of cylinders\n",
    "* disp - Displacement (cu.in.)\n",
    "* hp - Gross horsepower\n",
    "* drat - Rear axle ratio\n",
    "* wt - Weight (1000 lbs)\n",
    "* qsec - 1/4 mile time\n",
    "* vs - Engine (0 = V-shaped, 1 = straight)\n",
    "* am - Transmission (0 = automatic, 1 = manual)\n",
    "* gear - Number of forward gears"
   ]
  },
  {
   "cell_type": "code",
   "execution_count": null,
   "metadata": {},
   "outputs": [],
   "source": [
    "# TODO: Print top 5 rows of the csv\n"
   ]
  },
  {
   "cell_type": "markdown",
   "metadata": {},
   "source": [
    "Let's see the realtionship between engine displacement and milage of the cars"
   ]
  },
  {
   "cell_type": "code",
   "execution_count": null,
   "metadata": {},
   "outputs": [],
   "source": [
    "# TODO: Plot a scatter plot of disp vs mpg\n"
   ]
  },
  {
   "cell_type": "markdown",
   "metadata": {},
   "source": [
    "You can see that there is a co-relation between milage and displacement, i.e, generally milage decreases when displacement increases."
   ]
  },
  {
   "cell_type": "markdown",
   "metadata": {},
   "source": [
    "Now train a Linear regression model to the above data between the displacement and milage.\n",
    "Take X = disp\n",
    "and, Y = mpg"
   ]
  },
  {
   "cell_type": "code",
   "execution_count": null,
   "metadata": {},
   "outputs": [],
   "source": [
    "# TODO: Select the specific columns for X and Y from dataframe\n",
    "X = \n",
    "Y = "
   ]
  },
  {
   "cell_type": "code",
   "execution_count": null,
   "metadata": {},
   "outputs": [],
   "source": [
    "# Convert X and Y to Numpy array"
   ]
  },
  {
   "cell_type": "markdown",
   "metadata": {},
   "source": [
    "### TODO: Train a Regeression Model\n",
    "Now on the above data and using columns `disp` and `mpg`. \n",
    "- Fit a Regresssion Model on this data using `sklearn`\n",
    "- Find the regression coefficents\n",
    "- Plot the line of regression on the above data.\n",
    "- Make a prediction of Y(mpg) at X=200.0"
   ]
  },
  {
   "cell_type": "code",
   "execution_count": null,
   "metadata": {},
   "outputs": [],
   "source": [
    "# TODO: import sklearn & build a regression Model on disp and mpg"
   ]
  }
 ],
 "metadata": {
  "kernelspec": {
   "display_name": "Python 3 (ipykernel)",
   "language": "python",
   "name": "python3"
  },
  "language_info": {
   "codemirror_mode": {
    "name": "ipython",
    "version": 3
   },
   "file_extension": ".py",
   "mimetype": "text/x-python",
   "name": "python",
   "nbconvert_exporter": "python",
   "pygments_lexer": "ipython3",
   "version": "3.9.5"
  }
 },
 "nbformat": 4,
 "nbformat_minor": 2
}
