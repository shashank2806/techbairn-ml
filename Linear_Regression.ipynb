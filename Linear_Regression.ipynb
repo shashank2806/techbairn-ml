{
 "cells": [
  {
   "cell_type": "markdown",
   "metadata": {},
   "source": [
    "#### Linear Regression\n",
    "In this **notebook** we are going to implement *Linear Regression* on a small `dataset`."
   ]
  },
  {
   "cell_type": "code",
   "execution_count": 17,
   "metadata": {},
   "outputs": [],
   "source": [
    "# Imports\n",
    "import numpy as np\n",
    "import pandas as pd\n",
    "import matplotlib.pyplot as plt"
   ]
  },
  {
   "cell_type": "markdown",
   "metadata": {},
   "source": [
    "We are using a small dataset from [here](https://college.cengage.com/mathematics/brase/understandable_statistics/7e/students/datasets/slr/frames/frame.html). This a data about Cricket Chirps Vs. Temperature. We will use linear regression to fit model."
   ]
  },
  {
   "cell_type": "code",
   "execution_count": 18,
   "metadata": {},
   "outputs": [],
   "source": [
    "# !pip install xlrd"
   ]
  },
  {
   "cell_type": "code",
   "execution_count": 19,
   "metadata": {},
   "outputs": [
    {
     "name": "stdout",
     "output_type": "stream",
     "text": [
      "*** No CODEPAGE record, no encoding_override: will use 'iso-8859-1'\n"
     ]
    }
   ],
   "source": [
    "# loading data\n",
    "data = pd.read_excel('slr02.xls', engine='xlrd')"
   ]
  },
  {
   "cell_type": "markdown",
   "metadata": {},
   "source": [
    "Now we look into data we see there are two columns X and Y. \n",
    "\n",
    "were X = chirps/sec for the striped ground cricket\n",
    "\n",
    "and Y = temperature in degrees Fahrenheit"
   ]
  },
  {
   "cell_type": "code",
   "execution_count": 20,
   "metadata": {},
   "outputs": [
    {
     "data": {
      "text/html": [
       "<div>\n",
       "<style scoped>\n",
       "    .dataframe tbody tr th:only-of-type {\n",
       "        vertical-align: middle;\n",
       "    }\n",
       "\n",
       "    .dataframe tbody tr th {\n",
       "        vertical-align: top;\n",
       "    }\n",
       "\n",
       "    .dataframe thead th {\n",
       "        text-align: right;\n",
       "    }\n",
       "</style>\n",
       "<table border=\"1\" class=\"dataframe\">\n",
       "  <thead>\n",
       "    <tr style=\"text-align: right;\">\n",
       "      <th></th>\n",
       "      <th>X</th>\n",
       "      <th>Y</th>\n",
       "    </tr>\n",
       "  </thead>\n",
       "  <tbody>\n",
       "    <tr>\n",
       "      <th>0</th>\n",
       "      <td>20.000000</td>\n",
       "      <td>88.599998</td>\n",
       "    </tr>\n",
       "    <tr>\n",
       "      <th>1</th>\n",
       "      <td>16.000000</td>\n",
       "      <td>71.599998</td>\n",
       "    </tr>\n",
       "    <tr>\n",
       "      <th>2</th>\n",
       "      <td>19.799999</td>\n",
       "      <td>93.300003</td>\n",
       "    </tr>\n",
       "    <tr>\n",
       "      <th>3</th>\n",
       "      <td>18.400000</td>\n",
       "      <td>84.300003</td>\n",
       "    </tr>\n",
       "    <tr>\n",
       "      <th>4</th>\n",
       "      <td>17.100000</td>\n",
       "      <td>80.599998</td>\n",
       "    </tr>\n",
       "    <tr>\n",
       "      <th>5</th>\n",
       "      <td>15.500000</td>\n",
       "      <td>75.199997</td>\n",
       "    </tr>\n",
       "    <tr>\n",
       "      <th>6</th>\n",
       "      <td>14.700000</td>\n",
       "      <td>69.699997</td>\n",
       "    </tr>\n",
       "    <tr>\n",
       "      <th>7</th>\n",
       "      <td>17.100000</td>\n",
       "      <td>82.000000</td>\n",
       "    </tr>\n",
       "    <tr>\n",
       "      <th>8</th>\n",
       "      <td>15.400000</td>\n",
       "      <td>69.400002</td>\n",
       "    </tr>\n",
       "    <tr>\n",
       "      <th>9</th>\n",
       "      <td>16.200001</td>\n",
       "      <td>83.300003</td>\n",
       "    </tr>\n",
       "    <tr>\n",
       "      <th>10</th>\n",
       "      <td>15.000000</td>\n",
       "      <td>79.599998</td>\n",
       "    </tr>\n",
       "    <tr>\n",
       "      <th>11</th>\n",
       "      <td>17.200001</td>\n",
       "      <td>82.599998</td>\n",
       "    </tr>\n",
       "    <tr>\n",
       "      <th>12</th>\n",
       "      <td>16.000000</td>\n",
       "      <td>80.599998</td>\n",
       "    </tr>\n",
       "    <tr>\n",
       "      <th>13</th>\n",
       "      <td>17.000000</td>\n",
       "      <td>83.500000</td>\n",
       "    </tr>\n",
       "    <tr>\n",
       "      <th>14</th>\n",
       "      <td>14.400000</td>\n",
       "      <td>76.300003</td>\n",
       "    </tr>\n",
       "  </tbody>\n",
       "</table>\n",
       "</div>"
      ],
      "text/plain": [
       "            X          Y\n",
       "0   20.000000  88.599998\n",
       "1   16.000000  71.599998\n",
       "2   19.799999  93.300003\n",
       "3   18.400000  84.300003\n",
       "4   17.100000  80.599998\n",
       "5   15.500000  75.199997\n",
       "6   14.700000  69.699997\n",
       "7   17.100000  82.000000\n",
       "8   15.400000  69.400002\n",
       "9   16.200001  83.300003\n",
       "10  15.000000  79.599998\n",
       "11  17.200001  82.599998\n",
       "12  16.000000  80.599998\n",
       "13  17.000000  83.500000\n",
       "14  14.400000  76.300003"
      ]
     },
     "execution_count": 20,
     "metadata": {},
     "output_type": "execute_result"
    }
   ],
   "source": [
    "# visualise data\n",
    "data"
   ]
  },
  {
   "cell_type": "code",
   "execution_count": 21,
   "metadata": {},
   "outputs": [
    {
     "data": {
      "text/plain": [
       "pandas.core.frame.DataFrame"
      ]
     },
     "execution_count": 21,
     "metadata": {},
     "output_type": "execute_result"
    }
   ],
   "source": [
    "type(data)"
   ]
  },
  {
   "cell_type": "code",
   "execution_count": 22,
   "metadata": {},
   "outputs": [],
   "source": [
    "# data we got are in pandas dataframe format\n",
    "# we need to cast it in numpy array for calulations\n",
    "X = np.array(data.X)\n",
    "y = np.array(data.Y)"
   ]
  },
  {
   "cell_type": "markdown",
   "metadata": {},
   "source": [
    "Now we have two arrays. One containing input features and other array has output features"
   ]
  },
  {
   "cell_type": "code",
   "execution_count": 23,
   "metadata": {},
   "outputs": [
    {
     "data": {
      "text/plain": [
       "(array([20.        , 16.        , 19.79999924, 18.39999962, 17.10000038,\n",
       "        15.5       , 14.69999981, 17.10000038, 15.39999962, 16.20000076,\n",
       "        15.        , 17.20000076, 16.        , 17.        , 14.39999962]),\n",
       " array([88.59999847, 71.59999847, 93.30000305, 84.30000305, 80.59999847,\n",
       "        75.19999695, 69.69999695, 82.        , 69.40000153, 83.30000305,\n",
       "        79.59999847, 82.59999847, 80.59999847, 83.5       , 76.30000305]))"
      ]
     },
     "execution_count": 23,
     "metadata": {},
     "output_type": "execute_result"
    }
   ],
   "source": [
    "# visualise casted data\n",
    "X,y"
   ]
  },
  {
   "cell_type": "code",
   "execution_count": 24,
   "metadata": {},
   "outputs": [
    {
     "data": {
      "text/plain": [
       "numpy.ndarray"
      ]
     },
     "execution_count": 24,
     "metadata": {},
     "output_type": "execute_result"
    }
   ],
   "source": [
    "type(X)"
   ]
  },
  {
   "cell_type": "code",
   "execution_count": 25,
   "metadata": {},
   "outputs": [],
   "source": [
    "# function for plotting data points\n",
    "def plot_points(X, y, xlabel, ylabel):\n",
    "    \"\"\"Plot points given X and Y co-ordinates and labels them\"\"\"\n",
    "    plt.plot(X, y, 'o')\n",
    "    plt.xlabel(xlabel)\n",
    "    plt.ylabel(ylabel)"
   ]
  },
  {
   "cell_type": "code",
   "execution_count": 26,
   "metadata": {},
   "outputs": [
    {
     "data": {
      "image/png": "[encoded data removed]",
      "text/plain": [
       "<Figure size 432x288 with 1 Axes>"
      ]
     },
     "metadata": {
      "needs_background": "light"
     },
     "output_type": "display_data"
    }
   ],
   "source": [
    "# plot data points\n",
    "plot_points(X, y, \"chirps/sec for the striped ground cricket\", \"temperature in degrees Fahrenheit\")"
   ]
  },
  {
   "cell_type": "markdown",
   "metadata": {},
   "source": [
    "We have initialised theta to a random value.\n",
    "We then create hypothesis for model which is linear in nature"
   ]
  },
  {
   "cell_type": "code",
   "execution_count": 35,
   "metadata": {},
   "outputs": [],
   "source": [
    "# initialised theta\n",
    "np.random.seed(2)\n",
    "theta = np.random.rand(2,1)\n",
    "# hypothesis of model\n",
    "def hypothesis(X, theta):\n",
    "    \"\"\"Predicts output feature given input feature and theta\"\"\"\n",
    "    return theta[0] + theta[1] * X"
   ]
  },
  {
   "cell_type": "markdown",
   "metadata": {},
   "source": [
    "We want to draw our line of regression to see if fit data correctly."
   ]
  },
  {
   "cell_type": "code",
   "execution_count": 36,
   "metadata": {},
   "outputs": [],
   "source": [
    "# plots line of regression\n",
    "def draw_line(theta):\n",
    "    \"\"\"Plot a line from slope and intercept\"\"\"\n",
    "    axes = plt.gca()\n",
    "    x_vals = np.array(axes.get_xlim())\n",
    "    y_vals = hypothesis(x_vals, theta)\n",
    "    plt.plot(x_vals, y_vals, '--')"
   ]
  },
  {
   "cell_type": "markdown",
   "metadata": {},
   "source": [
    "We want to plot data points and line of regession on same plot to see if we are progressing as we train our model"
   ]
  },
  {
   "cell_type": "code",
   "execution_count": 37,
   "metadata": {},
   "outputs": [],
   "source": [
    "# plots points and lines\n",
    "def draw_points_and_lines(X, y, xlabel, ylabel, theta):\n",
    "    \"\"\"Draws lines and points\"\"\"\n",
    "    plot_points(X, y, xlabel, ylabel)\n",
    "    draw_line(theta)"
   ]
  },
  {
   "cell_type": "markdown",
   "metadata": {},
   "source": [
    "Now without training our model let's were the line of  regression lies"
   ]
  },
  {
   "cell_type": "code",
   "execution_count": 38,
   "metadata": {},
   "outputs": [
    {
     "data": {
      "image/png": "[encoded data removed]",
      "text/plain": [
       "<Figure size 432x288 with 1 Axes>"
      ]
     },
     "metadata": {
      "needs_background": "light"
     },
     "output_type": "display_data"
    }
   ],
   "source": [
    "# draw line of regression without traing model\n",
    "draw_points_and_lines(X, y, \"chirps/sec for the striped ground cricket\", \"temperature in degrees Fahrenheit\", theta)"
   ]
  },
  {
   "cell_type": "markdown",
   "metadata": {},
   "source": [
    "Cost function givies us measure of how much we are error we have\n",
    "\n",
    "we need to minimize  it. Here we have used sqared error cost function which basically sums over all the sqared error of indivisual points"
   ]
  },
  {
   "cell_type": "code",
   "execution_count": 39,
   "metadata": {},
   "outputs": [],
   "source": [
    "# cost function\n",
    "m = len(X)\n",
    "def cost(X, y, theta):\n",
    "    \"\"\"Returns cost\"\"\"\n",
    "    return (1/(2*m)) * np.sum((hypothesis(X, theta) - y) ** 2)"
   ]
  },
  {
   "cell_type": "code",
   "execution_count": 40,
   "metadata": {},
   "outputs": [
    {
     "data": {
      "text/plain": [
       "3154.8870744571304"
      ]
     },
     "execution_count": 40,
     "metadata": {},
     "output_type": "execute_result"
    }
   ],
   "source": [
    "# initial cost without training model\n",
    "cost(X, y, theta)"
   ]
  },
  {
   "cell_type": "markdown",
   "metadata": {},
   "source": [
    "Now we will minimize cost with help of **gradient descent**"
   ]
  },
  {
   "cell_type": "code",
   "execution_count": 41,
   "metadata": {},
   "outputs": [],
   "source": [
    "# minimize cost\n",
    "def gradient_descent(X, y, theta, alpha, steps):\n",
    "    for i in range(steps):\n",
    "        old_cost = cost(X, y, theta)\n",
    "        temp0 = theta[0] - alpha * ((1/m) * np.sum(hypothesis(X, theta) - y))\n",
    "        temp1 = theta[1] - alpha * ((1/m) * np.dot((hypothesis(X, theta) - y), X))\n",
    "        theta[0] = temp0\n",
    "        theta[1] = temp1\n",
    "        new_cost = cost(X, y, theta)\n",
    "        if new_cost > old_cost:\n",
    "            print(\"WARNING!!! COST INCREASING\", new_cost)\n",
    "        else:\n",
    "            print(\"Cost Decresing\", new_cost)"
   ]
  },
  {
   "cell_type": "code",
   "execution_count": 42,
   "metadata": {},
   "outputs": [
    {
     "name": "stdout",
     "output_type": "stream",
     "text": [
      "Cost Decresing 1635.2977297675818\n",
      "Cost Decresing 849.7898307803341\n",
      "Cost Decresing 443.74415710903946\n",
      "Cost Decresing 233.85053343835588\n",
      "Cost Decresing 125.35205308530111\n",
      "Cost Decresing 69.26686684984337\n",
      "Cost Decresing 40.275220900407845\n",
      "Cost Decresing 25.288798961439458\n",
      "Cost Decresing 17.541973528482107\n",
      "Cost Decresing 13.537448649531214\n",
      "Cost Decresing 11.467398078189143\n",
      "Cost Decresing 10.397318191652165\n",
      "Cost Decresing 9.84414430227494\n",
      "Cost Decresing 9.558170056057687\n",
      "Cost Decresing 9.410316957257288\n",
      "Cost Decresing 9.33386160137713\n",
      "Cost Decresing 9.294313249413898\n",
      "Cost Decresing 9.27384290888777\n",
      "Cost Decresing 9.26323439649766\n",
      "Cost Decresing 9.257723672170306\n",
      "Cost Decresing 9.254848102831042\n",
      "Cost Decresing 9.253334701358167\n",
      "Cost Decresing 9.252525433784397\n",
      "Cost Decresing 9.252080148434466\n",
      "Cost Decresing 9.251823013713082\n",
      "Cost Decresing 9.25166313854976\n",
      "Cost Decresing 9.251553539427785\n",
      "Cost Decresing 9.251469929573634\n",
      "Cost Decresing 9.251399754640376\n",
      "Cost Decresing 9.251336525020578\n",
      "Cost Decresing 9.251276886098871\n",
      "Cost Decresing 9.2512191038036\n",
      "Cost Decresing 9.25116228175647\n",
      "Cost Decresing 9.251105956600536\n",
      "Cost Decresing 9.251049888816809\n",
      "Cost Decresing 9.250993954592847\n",
      "Cost Decresing 9.25093808992735\n",
      "Cost Decresing 9.250882261736713\n",
      "Cost Decresing 9.250826452919277\n",
      "Cost Decresing 9.250770654634849\n",
      "Cost Decresing 9.250714862313716\n",
      "Cost Decresing 9.250659073593706\n",
      "Cost Decresing 9.25060328725374\n",
      "Cost Decresing 9.250547502662618\n",
      "Cost Decresing 9.250491719494018\n",
      "Cost Decresing 9.250435937579297\n",
      "Cost Decresing 9.250380156831232\n",
      "Cost Decresing 9.250324377204743\n",
      "Cost Decresing 9.250268598676506\n",
      "Cost Decresing 9.25021282123445\n",
      "Cost Decresing 9.250157044872356\n",
      "Cost Decresing 9.250101269586963\n",
      "Cost Decresing 9.250045495376595\n",
      "Cost Decresing 9.24998972224037\n",
      "Cost Decresing 9.249933950177825\n",
      "Cost Decresing 9.249878179188702\n",
      "Cost Decresing 9.249822409272875\n",
      "Cost Decresing 9.249766640430256\n",
      "Cost Decresing 9.249710872660788\n",
      "Cost Decresing 9.249655105964433\n",
      "Cost Decresing 9.249599340341176\n",
      "Cost Decresing 9.249543575790975\n",
      "Cost Decresing 9.249487812313825\n",
      "Cost Decresing 9.249432049909682\n",
      "Cost Decresing 9.249376288578542\n",
      "Cost Decresing 9.249320528320375\n",
      "Cost Decresing 9.249264769135163\n",
      "Cost Decresing 9.249209011022888\n",
      "Cost Decresing 9.249153253983533\n",
      "Cost Decresing 9.249097498017052\n",
      "Cost Decresing 9.249041743123462\n",
      "Cost Decresing 9.248985989302726\n",
      "Cost Decresing 9.248930236554802\n",
      "Cost Decresing 9.248874484879714\n",
      "Cost Decresing 9.248818734277407\n",
      "Cost Decresing 9.24876298474786\n",
      "Cost Decresing 9.248707236291065\n",
      "Cost Decresing 9.248651488906999\n",
      "Cost Decresing 9.248595742595649\n",
      "Cost Decresing 9.248539997356982\n",
      "Cost Decresing 9.248484253190975\n",
      "Cost Decresing 9.248428510097627\n",
      "Cost Decresing 9.24837276807688\n",
      "Cost Decresing 9.248317027128754\n",
      "Cost Decresing 9.24826128725321\n",
      "Cost Decresing 9.248205548450233\n",
      "Cost Decresing 9.248149810719799\n",
      "Cost Decresing 9.248094074061877\n",
      "Cost Decresing 9.248038338476466\n",
      "Cost Decresing 9.247982603963523\n",
      "Cost Decresing 9.24792687052305\n",
      "Cost Decresing 9.247871138155013\n",
      "Cost Decresing 9.2478154068594\n",
      "Cost Decresing 9.247759676636186\n",
      "Cost Decresing 9.247703947485343\n",
      "Cost Decresing 9.247648219406859\n",
      "Cost Decresing 9.24759249240071\n",
      "Cost Decresing 9.24753676646688\n",
      "Cost Decresing 9.24748104160534\n",
      "Cost Decresing 9.247425317816075\n"
     ]
    },
    {
     "data": {
      "text/plain": [
       "array([[0.74045512],\n",
       "       [4.74763234]])"
      ]
     },
     "execution_count": 42,
     "metadata": {},
     "output_type": "execute_result"
    }
   ],
   "source": [
    "# train model of 100 iterations\n",
    "gradient_descent(X, y, theta, alpha=0.001, steps=100)\n",
    "theta"
   ]
  },
  {
   "cell_type": "markdown",
   "metadata": {},
   "source": [
    "After training we can clearly see we have reduced cost and have found appropriate value of theta"
   ]
  },
  {
   "cell_type": "code",
   "execution_count": 43,
   "metadata": {},
   "outputs": [
    {
     "data": {
      "text/plain": [
       "9.247425317816075"
      ]
     },
     "execution_count": 43,
     "metadata": {},
     "output_type": "execute_result"
    }
   ],
   "source": [
    "# cost after traing model\n",
    "cost(X, y, theta)"
   ]
  },
  {
   "cell_type": "code",
   "execution_count": 44,
   "metadata": {},
   "outputs": [
    {
     "data": {
      "text/plain": [
       "array([[0.74045512],\n",
       "       [4.74763234]])"
      ]
     },
     "execution_count": 44,
     "metadata": {},
     "output_type": "execute_result"
    }
   ],
   "source": [
    "# value of theta after training \n",
    "theta"
   ]
  },
  {
   "cell_type": "code",
   "execution_count": 45,
   "metadata": {},
   "outputs": [
    {
     "data": {
      "image/png": "[encoded data removed]",
      "text/plain": [
       "<Figure size 432x288 with 1 Axes>"
      ]
     },
     "metadata": {
      "needs_background": "light"
     },
     "output_type": "display_data"
    }
   ],
   "source": [
    "# regression line after traing model\n",
    "draw_points_and_lines(X, y, \"chirps/sec for the striped ground cricket\", \"temperature in degrees Fahrenheit\", theta)"
   ]
  },
  {
   "cell_type": "markdown",
   "metadata": {},
   "source": [
    "We can clearly see we have fitted line to the points. Thus we have successfully used linear regression to train a model."
   ]
  },
  {
   "cell_type": "markdown",
   "metadata": {},
   "source": [
    "### Prediction"
   ]
  },
  {
   "cell_type": "code",
   "execution_count": 50,
   "metadata": {},
   "outputs": [
    {
     "data": {
      "text/plain": [
       "array([71.48017697])"
      ]
     },
     "execution_count": 50,
     "metadata": {},
     "output_type": "execute_result"
    }
   ],
   "source": [
    "x = np.array([14.9])\n",
    "hypothesis(x, theta)"
   ]
  },
  {
   "cell_type": "code",
   "execution_count": null,
   "metadata": {},
   "outputs": [],
   "source": []
  }
 ],
 "metadata": {
  "kernelspec": {
   "display_name": "Python 3 (ipykernel)",
   "language": "python",
   "name": "python3"
  },
  "language_info": {
   "codemirror_mode": {
    "name": "ipython",
    "version": 3
   },
   "file_extension": ".py",
   "mimetype": "text/x-python",
   "name": "python",
   "nbconvert_exporter": "python",
   "pygments_lexer": "ipython3",
   "version": "3.9.5"
  }
 },
 "nbformat": 4,
 "nbformat_minor": 2
}
